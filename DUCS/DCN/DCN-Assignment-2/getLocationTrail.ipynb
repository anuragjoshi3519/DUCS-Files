{
 "cells": [
  {
   "cell_type": "code",
   "execution_count": 21,
   "metadata": {},
   "outputs": [
    {
     "name": "stdout",
     "output_type": "stream",
     "text": [
      "Total number of location entries found: 781872\n",
      "Successfully stored data in csv file.\n",
      "Total number of location entries saved: 755111\n"
     ]
    }
   ],
   "source": [
    "# Loading, Preprocessing and Saving location history data as CSV file \n",
    "\n",
    "import json\n",
    "import pandas as pd\n",
    "from datetime import datetime\n",
    "\n",
    "# loading location history data\n",
    "with open('Location History/Location History.json','r') as f:\n",
    "    locationHistory = json.load(f)\n",
    "    \n",
    "print(f'Total number of location entries found: {len(locationHistory[\"locations\"])}')\n",
    "\n",
    "# initializing dictionary\n",
    "locationList = {\n",
    "    'timestamp': [],\n",
    "    'latitude' : [],\n",
    "    'longitude': [],\n",
    "}\n",
    "\n",
    "# getting information from locationHistory object\n",
    "for location in locationHistory['locations']:\n",
    "    \n",
    "    # getting location info for locations having accuracy less than 1000\n",
    "    if location['accuracy']<1000:\n",
    "        lon = location['longitudeE7']/float(1e7)\n",
    "        lat = location['latitudeE7']/float(1e7)\n",
    "        \n",
    "        # removing wrong location data\n",
    "        if lon>68.18 and lat>8.0 and lon<97.4 and lat<35.5:\n",
    "            locationList['timestamp'].append(location['timestampMs'])\n",
    "            locationList['latitude'].append(lat)\n",
    "            locationList['longitude'].append(lon)\n",
    "      \n",
    "# creating DataFrame object\n",
    "locationDf = pd.DataFrame(locationList)\n",
    "\n",
    "# creating new datetime field using timestamps\n",
    "dates=[datetime.fromtimestamp(int(timestamp)/1000).strftime(\"%d/%m/%Y %H:%M:%S\") \\\n",
    "       for timestamp in locationDf['timestamp']]\n",
    "locationDf['datetime'] = dates\n",
    "\n",
    "# converting location list to csv\n",
    "locationDf.to_csv('locationTrail.csv',index=False)\n",
    "\n",
    "print('Successfully stored data in csv file.')      \n",
    "print(f'Total number of location entries saved: {len(locationList[\"latitude\"])}')    "
   ]
  }
 ],
 "metadata": {
  "kernelspec": {
   "display_name": "Python 3",
   "language": "python",
   "name": "python3"
  },
  "language_info": {
   "codemirror_mode": {
    "name": "ipython",
    "version": 3
   },
   "file_extension": ".py",
   "mimetype": "text/x-python",
   "name": "python",
   "nbconvert_exporter": "python",
   "pygments_lexer": "ipython3",
   "version": "3.7.4"
  }
 },
 "nbformat": 4,
 "nbformat_minor": 2
}
