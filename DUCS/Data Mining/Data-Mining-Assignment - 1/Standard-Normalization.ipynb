{
 "cells": [
  {
   "cell_type": "code",
   "execution_count": 12,
   "metadata": {},
   "outputs": [],
   "source": [
    "import pandas as pd\n",
    "import numpy as np"
   ]
  },
  {
   "cell_type": "code",
   "execution_count": 2,
   "metadata": {},
   "outputs": [],
   "source": [
    "df = pd.read_csv('BitcoinHeistData.csv')"
   ]
  },
  {
   "cell_type": "code",
   "execution_count": 4,
   "metadata": {},
   "outputs": [
    {
     "data": {
      "text/html": [
       "<div>\n",
       "<style scoped>\n",
       "    .dataframe tbody tr th:only-of-type {\n",
       "        vertical-align: middle;\n",
       "    }\n",
       "\n",
       "    .dataframe tbody tr th {\n",
       "        vertical-align: top;\n",
       "    }\n",
       "\n",
       "    .dataframe thead th {\n",
       "        text-align: right;\n",
       "    }\n",
       "</style>\n",
       "<table border=\"1\" class=\"dataframe\">\n",
       "  <thead>\n",
       "    <tr style=\"text-align: right;\">\n",
       "      <th></th>\n",
       "      <th>count</th>\n",
       "      <th>mean</th>\n",
       "      <th>std</th>\n",
       "      <th>min</th>\n",
       "      <th>25%</th>\n",
       "      <th>50%</th>\n",
       "      <th>75%</th>\n",
       "      <th>max</th>\n",
       "    </tr>\n",
       "  </thead>\n",
       "  <tbody>\n",
       "    <tr>\n",
       "      <th>year</th>\n",
       "      <td>2916697.0</td>\n",
       "      <td>2.014475e+03</td>\n",
       "      <td>2.257398e+00</td>\n",
       "      <td>2.011000e+03</td>\n",
       "      <td>2.013000e+03</td>\n",
       "      <td>2.014000e+03</td>\n",
       "      <td>2.016000e+03</td>\n",
       "      <td>2.018000e+03</td>\n",
       "    </tr>\n",
       "    <tr>\n",
       "      <th>day</th>\n",
       "      <td>2916697.0</td>\n",
       "      <td>1.814572e+02</td>\n",
       "      <td>1.040118e+02</td>\n",
       "      <td>1.000000e+00</td>\n",
       "      <td>9.200000e+01</td>\n",
       "      <td>1.810000e+02</td>\n",
       "      <td>2.710000e+02</td>\n",
       "      <td>3.650000e+02</td>\n",
       "    </tr>\n",
       "    <tr>\n",
       "      <th>length</th>\n",
       "      <td>2916697.0</td>\n",
       "      <td>4.500859e+01</td>\n",
       "      <td>5.898236e+01</td>\n",
       "      <td>0.000000e+00</td>\n",
       "      <td>2.000000e+00</td>\n",
       "      <td>8.000000e+00</td>\n",
       "      <td>1.080000e+02</td>\n",
       "      <td>1.440000e+02</td>\n",
       "    </tr>\n",
       "    <tr>\n",
       "      <th>weight</th>\n",
       "      <td>2916697.0</td>\n",
       "      <td>5.455192e-01</td>\n",
       "      <td>3.674255e+00</td>\n",
       "      <td>3.606469e-94</td>\n",
       "      <td>2.148438e-02</td>\n",
       "      <td>2.500000e-01</td>\n",
       "      <td>8.819482e-01</td>\n",
       "      <td>1.943749e+03</td>\n",
       "    </tr>\n",
       "    <tr>\n",
       "      <th>count</th>\n",
       "      <td>2916697.0</td>\n",
       "      <td>7.216446e+02</td>\n",
       "      <td>1.689676e+03</td>\n",
       "      <td>1.000000e+00</td>\n",
       "      <td>1.000000e+00</td>\n",
       "      <td>1.000000e+00</td>\n",
       "      <td>5.600000e+01</td>\n",
       "      <td>1.449700e+04</td>\n",
       "    </tr>\n",
       "    <tr>\n",
       "      <th>looped</th>\n",
       "      <td>2916697.0</td>\n",
       "      <td>2.385067e+02</td>\n",
       "      <td>9.663217e+02</td>\n",
       "      <td>0.000000e+00</td>\n",
       "      <td>0.000000e+00</td>\n",
       "      <td>0.000000e+00</td>\n",
       "      <td>0.000000e+00</td>\n",
       "      <td>1.449600e+04</td>\n",
       "    </tr>\n",
       "    <tr>\n",
       "      <th>neighbors</th>\n",
       "      <td>2916697.0</td>\n",
       "      <td>2.206516e+00</td>\n",
       "      <td>1.791877e+01</td>\n",
       "      <td>1.000000e+00</td>\n",
       "      <td>1.000000e+00</td>\n",
       "      <td>2.000000e+00</td>\n",
       "      <td>2.000000e+00</td>\n",
       "      <td>1.292000e+04</td>\n",
       "    </tr>\n",
       "    <tr>\n",
       "      <th>income</th>\n",
       "      <td>2916697.0</td>\n",
       "      <td>4.464889e+09</td>\n",
       "      <td>1.626860e+11</td>\n",
       "      <td>3.000000e+07</td>\n",
       "      <td>7.428559e+07</td>\n",
       "      <td>1.999985e+08</td>\n",
       "      <td>9.940000e+08</td>\n",
       "      <td>4.996440e+13</td>\n",
       "    </tr>\n",
       "  </tbody>\n",
       "</table>\n",
       "</div>"
      ],
      "text/plain": [
       "               count          mean           std           min           25%  \\\n",
       "year       2916697.0  2.014475e+03  2.257398e+00  2.011000e+03  2.013000e+03   \n",
       "day        2916697.0  1.814572e+02  1.040118e+02  1.000000e+00  9.200000e+01   \n",
       "length     2916697.0  4.500859e+01  5.898236e+01  0.000000e+00  2.000000e+00   \n",
       "weight     2916697.0  5.455192e-01  3.674255e+00  3.606469e-94  2.148438e-02   \n",
       "count      2916697.0  7.216446e+02  1.689676e+03  1.000000e+00  1.000000e+00   \n",
       "looped     2916697.0  2.385067e+02  9.663217e+02  0.000000e+00  0.000000e+00   \n",
       "neighbors  2916697.0  2.206516e+00  1.791877e+01  1.000000e+00  1.000000e+00   \n",
       "income     2916697.0  4.464889e+09  1.626860e+11  3.000000e+07  7.428559e+07   \n",
       "\n",
       "                    50%           75%           max  \n",
       "year       2.014000e+03  2.016000e+03  2.018000e+03  \n",
       "day        1.810000e+02  2.710000e+02  3.650000e+02  \n",
       "length     8.000000e+00  1.080000e+02  1.440000e+02  \n",
       "weight     2.500000e-01  8.819482e-01  1.943749e+03  \n",
       "count      1.000000e+00  5.600000e+01  1.449700e+04  \n",
       "looped     0.000000e+00  0.000000e+00  1.449600e+04  \n",
       "neighbors  2.000000e+00  2.000000e+00  1.292000e+04  \n",
       "income     1.999985e+08  9.940000e+08  4.996440e+13  "
      ]
     },
     "execution_count": 4,
     "metadata": {},
     "output_type": "execute_result"
    }
   ],
   "source": [
    "df.describe().T"
   ]
  },
  {
   "cell_type": "code",
   "execution_count": 24,
   "metadata": {},
   "outputs": [],
   "source": []
  },
  {
   "cell_type": "code",
   "execution_count": 42,
   "metadata": {},
   "outputs": [],
   "source": [
    "def standard_normalize(arr):\n",
    "    '''\n",
    "    Input: arr (numpy array) : a numpy array of numeric values\n",
    "    Return Value: normalized_arr : the standard normalized numpy array of given input 'arr'\n",
    "    '''\n",
    "    \n",
    "    mean = np.mean(arr)\n",
    "    std = np.std(arr)    \n",
    "    normalized_arr = (arr - mean)/std\n",
    "    \n",
    "    return normalized_arr\n",
    "\n",
    "# extracting only the income attribute from the pandas dataframe of the given dataset\n",
    "income = np.array(df.income[:200])\n",
    "\n",
    "# calling standard_normalize function with income attribute values as the parameter\n",
    "normalized_income = standard_normalize(income)"
   ]
  },
  {
   "cell_type": "code",
   "execution_count": 44,
   "metadata": {},
   "outputs": [
    {
     "data": {
      "text/plain": [
       "count    2.000000e+02\n",
       "mean     1.135203e-16\n",
       "std      1.002509e+00\n",
       "min     -9.731697e-01\n",
       "25%     -6.493344e-01\n",
       "50%     -2.797936e-01\n",
       "75%      3.366907e-01\n",
       "max      5.196273e+00\n",
       "dtype: float64"
      ]
     },
     "execution_count": 44,
     "metadata": {},
     "output_type": "execute_result"
    }
   ],
   "source": [
    "pd.Series(normalized_income).describe()"
   ]
  },
  {
   "cell_type": "code",
   "execution_count": null,
   "metadata": {},
   "outputs": [],
   "source": []
  },
  {
   "cell_type": "code",
   "execution_count": null,
   "metadata": {},
   "outputs": [],
   "source": []
  }
 ],
 "metadata": {
  "kernelspec": {
   "display_name": "Python 3",
   "language": "python",
   "name": "python3"
  },
  "language_info": {
   "codemirror_mode": {
    "name": "ipython",
    "version": 3
   },
   "file_extension": ".py",
   "mimetype": "text/x-python",
   "name": "python",
   "nbconvert_exporter": "python",
   "pygments_lexer": "ipython3",
   "version": "3.7.6"
  }
 },
 "nbformat": 4,
 "nbformat_minor": 4
}
