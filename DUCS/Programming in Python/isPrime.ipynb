{
 "cells": [
  {
   "cell_type": "code",
   "execution_count": null,
   "metadata": {
    "collapsed": true
   },
   "outputs": [],
   "source": []
  },
  {
   "cell_type": "code",
   "execution_count": 22,
   "metadata": {
    "collapsed": false
   },
   "outputs": [],
   "source": [
    "\n",
    "import math\n",
    "def isPrime(num,div=2):\n",
    "    '''\n",
    "    Objective: Check if the number is prime or not.\n",
    "    Input Parameters: A single integer greater than 0, default input div initialized to 2\n",
    "    Return Value: True if the number is prime or False if the number is not prime\n",
    "    '''\n",
    "    '''\n",
    "    Approach: Recursion is used to implement the function.\n",
    "              A default parameter (div) is used to check if any number less than the\n",
    "              square root of input num divides the num or not.\n",
    "    '''\n",
    "    assert num>0\n",
    "    ## Base Cases\n",
    "    if num<2:\n",
    "        return False\n",
    "    elif num==2 or num==3:\n",
    "        return True\n",
    "    elif num%div==0:\n",
    "        return False\n",
    "    else:           ## Recursive Case\n",
    "        if div<=math.sqrt(num):\n",
    "            return isPrime(num,div+1)\n",
    "        else:\n",
    "            return true\n",
    "    "
   ]
  },
  {
   "cell_type": "code",
   "execution_count": 28,
   "metadata": {
    "collapsed": false
   },
   "outputs": [
    {
     "data": {
      "text/plain": [
       "True"
      ]
     },
     "execution_count": 28,
     "metadata": {},
     "output_type": "execute_result"
    }
   ],
   "source": [
    "isPrime(29)"
   ]
  },
  {
   "cell_type": "code",
   "execution_count": null,
   "metadata": {
    "collapsed": true
   },
   "outputs": [],
   "source": []
  }
 ],
 "metadata": {
  "kernelspec": {
   "display_name": "Python 3",
   "language": "python",
   "name": "python3"
  },
  "language_info": {
   "codemirror_mode": {
    "name": "ipython",
    "version": 3
   },
   "file_extension": ".py",
   "mimetype": "text/x-python",
   "name": "python",
   "nbconvert_exporter": "python",
   "pygments_lexer": "ipython3",
   "version": "3.6.0"
  }
 },
 "nbformat": 4,
 "nbformat_minor": 2
}
