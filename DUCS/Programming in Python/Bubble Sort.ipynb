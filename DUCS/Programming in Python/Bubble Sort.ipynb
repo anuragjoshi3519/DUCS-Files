{
 "cells": [
  {
   "cell_type": "markdown",
   "metadata": {},
   "source": [
    "## Bubble sort using recursion"
   ]
  },
  {
   "cell_type": "code",
   "execution_count": 37,
   "metadata": {},
   "outputs": [],
   "source": [
    "def bubble(list_val):\n",
    "    '''\n",
    "    Objective: To put the heaviest(largest) element at the end of the given list\n",
    "    Input: A list of numbers\n",
    "    Return Value: List with heaviest element at the end\n",
    "    '''\n",
    "    if len(list_val)==1:\n",
    "        return [list_val[0]]\n",
    "    if list_val[0]>list_val[1]:\n",
    "        list_val[0],list_val[1]=list_val[1],list_val[0]\n",
    "        \n",
    "    return [list_val[0]]+bubble(list_val[1:])\n",
    "\n",
    "def bubbleSort(l):\n",
    "    '''\n",
    "    Objective: To sort the elements of the given list\n",
    "    Input: A list of numbers\n",
    "    Return Value: Given list with elements sorted \n",
    "    '''\n",
    "    '''\n",
    "    Approach: Recursion is used to sort the list\n",
    "    '''\n",
    "    l=bubble(l)\n",
    "    if len(l)>1:\n",
    "        return bubbleSort(l[:-1]) + [l[-1]]\n",
    "    else:\n",
    "        return l  "
   ]
  },
  {
   "cell_type": "code",
   "execution_count": 38,
   "metadata": {},
   "outputs": [
    {
     "data": {
      "text/plain": [
       "[-1212, 0, 3, 3.3, 5, 7, 9, 12, 121, 543.2, 963.4]"
      ]
     },
     "execution_count": 38,
     "metadata": {},
     "output_type": "execute_result"
    }
   ],
   "source": [
    "bubbleSort([5,3,7,3.3,9,121,543.2,963.4,12,0,-1212])"
   ]
  },
  {
   "cell_type": "code",
   "execution_count": null,
   "metadata": {},
   "outputs": [],
   "source": []
  },
  {
   "cell_type": "code",
   "execution_count": null,
   "metadata": {},
   "outputs": [],
   "source": []
  },
  {
   "cell_type": "code",
   "execution_count": null,
   "metadata": {},
   "outputs": [],
   "source": []
  },
  {
   "cell_type": "code",
   "execution_count": null,
   "metadata": {},
   "outputs": [],
   "source": []
  }
 ],
 "metadata": {
  "kernelspec": {
   "display_name": "Python 3",
   "language": "python",
   "name": "python3"
  },
  "language_info": {
   "codemirror_mode": {
    "name": "ipython",
    "version": 3
   },
   "file_extension": ".py",
   "mimetype": "text/x-python",
   "name": "python",
   "nbconvert_exporter": "python",
   "pygments_lexer": "ipython3",
   "version": "3.6.5"
  }
 },
 "nbformat": 4,
 "nbformat_minor": 2
}
