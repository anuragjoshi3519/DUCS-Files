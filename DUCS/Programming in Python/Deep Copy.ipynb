{
 "cells": [
  {
   "cell_type": "code",
   "execution_count": 42,
   "metadata": {},
   "outputs": [],
   "source": [
    "def deep_copy(lst,i=0,lst_copy=[]):\n",
    "    '''\n",
    "    objective : to deep copy a given list into another list \n",
    "    input : a list to be copied \n",
    "    return value : copy of the desired list\n",
    "    '''\n",
    "    '''\n",
    "    approach : using recursion\n",
    "    '''\n",
    "    if len(lst)==i:\n",
    "        return lst_copy\n",
    "    elif type(lst[i])==list:\n",
    "        return deep_copy(lst,i+1, lst_copy + [deep_copy(lst[i])] )\n",
    "    else:\n",
    "        return deep_copy(lst,i+1,lst_copy + [lst[i]])"
   ]
  },
  {
   "cell_type": "code",
   "execution_count": 46,
   "metadata": {},
   "outputs": [],
   "source": [
    "a=[1,2,[3,[4],[7,8]],5,[8,9,10]]\n",
    "b=deep_copy(a)"
   ]
  },
  {
   "cell_type": "code",
   "execution_count": 47,
   "metadata": {},
   "outputs": [
    {
     "data": {
      "text/plain": [
       "False"
      ]
     },
     "execution_count": 47,
     "metadata": {},
     "output_type": "execute_result"
    }
   ],
   "source": [
    "id(a[2])==id(b[2])"
   ]
  },
  {
   "cell_type": "code",
   "execution_count": 48,
   "metadata": {},
   "outputs": [
    {
     "data": {
      "text/plain": [
       "[1, 2, [3, [4], [7, 8]], 5, [8, 9, 10]]"
      ]
     },
     "execution_count": 48,
     "metadata": {},
     "output_type": "execute_result"
    }
   ],
   "source": [
    "b"
   ]
  },
  {
   "cell_type": "code",
   "execution_count": null,
   "metadata": {},
   "outputs": [],
   "source": []
  }
 ],
 "metadata": {
  "kernelspec": {
   "display_name": "Python 3",
   "language": "python",
   "name": "python3"
  },
  "language_info": {
   "codemirror_mode": {
    "name": "ipython",
    "version": 3
   },
   "file_extension": ".py",
   "mimetype": "text/x-python",
   "name": "python",
   "nbconvert_exporter": "python",
   "pygments_lexer": "ipython3",
   "version": "3.6.5"
  }
 },
 "nbformat": 4,
 "nbformat_minor": 2
}
