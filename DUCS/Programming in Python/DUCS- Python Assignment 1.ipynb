{
 "cells": [
  {
   "cell_type": "markdown",
   "metadata": {},
   "source": [
    "# Assignment"
   ]
  },
  {
   "cell_type": "markdown",
   "metadata": {},
   "source": [
    "## Q1. WAP which will find all such numbers which are divisible by 7 but are not a multiple of 5 between 2000 and 3200 both included."
   ]
  },
  {
   "cell_type": "code",
   "execution_count": 7,
   "metadata": {},
   "outputs": [
    {
     "name": "stdout",
     "output_type": "stream",
     "text": [
      "[2002, 2009, 2016, 2023, 2037, 2044, 2051, 2058, 2072, 2079, 2086, 2093, 2107, 2114, 2121, 2128, 2142, 2149, 2156, 2163, 2177, 2184, 2191, 2198, 2212, 2219, 2226, 2233, 2247, 2254, 2261, 2268, 2282, 2289, 2296, 2303, 2317, 2324, 2331, 2338, 2352, 2359, 2366, 2373, 2387, 2394, 2401, 2408, 2422, 2429, 2436, 2443, 2457, 2464, 2471, 2478, 2492, 2499, 2506, 2513, 2527, 2534, 2541, 2548, 2562, 2569, 2576, 2583, 2597, 2604, 2611, 2618, 2632, 2639, 2646, 2653, 2667, 2674, 2681, 2688, 2702, 2709, 2716, 2723, 2737, 2744, 2751, 2758, 2772, 2779, 2786, 2793, 2807, 2814, 2821, 2828, 2842, 2849, 2856, 2863, 2877, 2884, 2891, 2898, 2912, 2919, 2926, 2933, 2947, 2954, 2961, 2968, 2982, 2989, 2996, 3003, 3017, 3024, 3031, 3038, 3052, 3059, 3066, 3073, 3087, 3094, 3101, 3108, 3122, 3129, 3136, 3143, 3157, 3164, 3171, 3178, 3192, 3199]\n"
     ]
    }
   ],
   "source": [
    "div7=[]\n",
    "div35=[]\n",
    "for i in range(2000,3201):\n",
    "    if i%7==0:\n",
    "        div7.append(i)\n",
    "    if i%35==0:\n",
    "        div35.append(i)\n",
    "result= set(div7) - set(div35)\n",
    "result=list(sorted(result))\n",
    "print(result)"
   ]
  },
  {
   "cell_type": "markdown",
   "metadata": {},
   "source": [
    "## Q2. WAP to generate a dictionary that contains (i,i*i) as key value pair from 1 to the given input 'n'."
   ]
  },
  {
   "cell_type": "code",
   "execution_count": 10,
   "metadata": {},
   "outputs": [
    {
     "name": "stdout",
     "output_type": "stream",
     "text": [
      "Enter the value of n: 5\n",
      "{1: 1, 2: 4, 3: 9, 4: 16, 5: 25}\n"
     ]
    }
   ],
   "source": [
    "n=int(input(\"Enter the value of n: \"))\n",
    "dictionary = {i:i*i for i in range(1,n+1)}\n",
    "print(dictionary)"
   ]
  },
  {
   "cell_type": "markdown",
   "metadata": {},
   "source": [
    "## Q3. WAP which takes two digits x,y as inputs and generate a 2-D array. The element value in the i th row and j th column should be i*j. "
   ]
  },
  {
   "cell_type": "code",
   "execution_count": 22,
   "metadata": {},
   "outputs": [
    {
     "name": "stdout",
     "output_type": "stream",
     "text": [
      "Enter the values of x and y: 5 6\n",
      "[[ 0  0  0  0  0  0]\n",
      " [ 0  1  2  3  4  5]\n",
      " [ 0  2  4  6  8 10]\n",
      " [ 0  3  6  9 12 15]\n",
      " [ 0  4  8 12 16 20]]\n"
     ]
    }
   ],
   "source": [
    "try:\n",
    "    [x,y]=[int(i) for i in input(\"Enter the values of x and y: \").split()]   \n",
    "except Exception:\n",
    "    print(\"You did not enter exactly 2 numbers. Aborting!!\") \n",
    "\n",
    "arr=[ [] for _ in range(x) ]\n",
    "\n",
    "for i in range(x):\n",
    "    for j in range(y):\n",
    "        arr[i].append(i*j)\n",
    "\n",
    "import numpy as np\n",
    "\n",
    "print(np.array(arr))"
   ]
  },
  {
   "cell_type": "markdown",
   "metadata": {},
   "source": [
    "## Q4. WAP that computes the net amount of a bank account based on the transaction log from console input."
   ]
  },
  {
   "cell_type": "code",
   "execution_count": 7,
   "metadata": {},
   "outputs": [
    {
     "name": "stdout",
     "output_type": "stream",
     "text": [
      "Enter transaction logs ((+)number for credit and (-)number for debit): 1 2 3 4 \n",
      "\n",
      "Net amount of bank account is 10\n"
     ]
    }
   ],
   "source": [
    "tLog=[int(i) for i in input(\"Enter transaction logs ((+)number for credit and (-)number for debit): \").split()]\n",
    "net=0  # Initial bank balance is assumed to be 0.\n",
    "flag=0\n",
    "try:\n",
    "    for i in range(len(tLog)):\n",
    "        net+=tLog[i]\n",
    "        if net < 0:\n",
    "            raise Exception\n",
    "except Exception:\n",
    "    print(\"Transaction log is unrealistic, bank can't have a negative net amount. Aborting!!\")\n",
    "    flag=1\n",
    "    \n",
    "if flag==0:   \n",
    "    print(\"\\nNet amount of bank account is {}\".format(net))"
   ]
  },
  {
   "cell_type": "markdown",
   "metadata": {},
   "source": [
    "## Q5. A website requires the users to input username and password to register themselves. WAP to check the validity of the password input by user. Following are the criteria for checking the password:-\n",
    "\n",
    "### 1. Atleast 1 lower alphabet [a-z]\n",
    "### 2. Atleast 1 digit [0-9]\n",
    "### 3. Atleast 1 upper alphabet [A-Z]\n",
    "### 4. Atlease one of the symbol from set [$,#,@] \n",
    "\n",
    "\n",
    "### Minimum and maximum length of the password must be 6 and 12 resp."
   ]
  },
  {
   "cell_type": "code",
   "execution_count": 10,
   "metadata": {},
   "outputs": [
    {
     "name": "stdout",
     "output_type": "stream",
     "text": [
      "Enter Username: sdf\n",
      "Enter Password: sdfasd@A3\n",
      "Successfully registered.\n"
     ]
    }
   ],
   "source": [
    "import re\n",
    "\n",
    "def checkPassword(password):\n",
    "    '''\n",
    "    This function checks the password for following criterias:\n",
    "        1. Must contain atleast 1 lower alphabet [a-z]\n",
    "        2. Must contain atleast 1 digit [0-9]\n",
    "        3. Must contain atleast 1 upper alphabet [A-Z]\n",
    "        4. Must contain atleast one of the symbol in [$,#,@] and no other symbols are allowed.\n",
    "        5. Minimum and maximum length of the password must be 6 and 12 resp.\n",
    "    '''\n",
    "    checkSymbol = re.compile('[$#@]')\n",
    "    checkDigit = re.compile('[1-9]')\n",
    "    checkUpper = re.compile('[A-Z]')\n",
    "    checkLower = re.compile('[a-z]')\n",
    "\n",
    "    flag=0\n",
    "    # flag=0 means password is fine\n",
    "    # flag=1 means password does not satisfy the length criteria\n",
    "    # flag=2 means password doesn't contain atleast 1 lower letter, 1 upper letter, 1 digit and 1 special characters from the set {$,#,@}\n",
    "\n",
    "    if len(password)<6 or len(password)>12:\n",
    "        flag=1\n",
    "    if flag==0 and (checkSymbol.search(password)== None or checkDigit.search(password)==None):\n",
    "        flag=2 \n",
    "    if flag==0 and (checkUpper.search(password)==None or checkLower.search(password)==None):    \n",
    "        flag=2\n",
    "    \n",
    "    if flag==0:\n",
    "        for i in password:\n",
    "            if i.isalnum()==True:\n",
    "                pass\n",
    "            elif checkSymbol.search(i)==None:\n",
    "                flag=2\n",
    "                break\n",
    "            \n",
    "    return flag   \n",
    "\n",
    "\n",
    "username=input(\"Enter Username: \")\n",
    "password=input(\"Enter Password: \")\n",
    "\n",
    "flag=checkPassword(password)\n",
    "\n",
    "if flag==1:\n",
    "    print(\"Could not register!! Either password is too long or too short.\")\n",
    "elif flag==2:\n",
    "    print(\"Could not register!! The password must contain atleast 1 lower letter, 1 upper letter, 1 digit and 1 special character from the set {$,#,@}.\")\n",
    "else:\n",
    "    print(\"Successfully registered.\")"
   ]
  },
  {
   "cell_type": "code",
   "execution_count": null,
   "metadata": {},
   "outputs": [],
   "source": []
  }
 ],
 "metadata": {
  "kernelspec": {
   "display_name": "Python 3",
   "language": "python",
   "name": "python3"
  },
  "language_info": {
   "codemirror_mode": {
    "name": "ipython",
    "version": 3
   },
   "file_extension": ".py",
   "mimetype": "text/x-python",
   "name": "python",
   "nbconvert_exporter": "python",
   "pygments_lexer": "ipython3",
   "version": "3.7.2"
  }
 },
 "nbformat": 4,
 "nbformat_minor": 2
}
