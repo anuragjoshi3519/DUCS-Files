{
 "cells": [
  {
   "cell_type": "code",
   "execution_count": 5,
   "metadata": {},
   "outputs": [],
   "source": [
    "def toh(start,aux,end,n):\n",
    "    '''\n",
    "    Objective: To show the movement of disks, so that all the disk from pole A moves to pole C in the same order.\n",
    "    Input: \n",
    "        start: starting position of disks\n",
    "        end: ending position of disks\n",
    "        aux: auxilliary pole to help the process\n",
    "    Return Values: None    \n",
    "    '''\n",
    "    if n==1:\n",
    "        print(\"Move disk from {} to {}\".format(start,end))\n",
    "        return\n",
    "    toh(start,end,aux,n-1)\n",
    "    print(\"Move disk from {} to {}\".format(start,end))\n",
    "    toh(aux,start,end,n-1)        "
   ]
  },
  {
   "cell_type": "code",
   "execution_count": 6,
   "metadata": {},
   "outputs": [
    {
     "name": "stdout",
     "output_type": "stream",
     "text": [
      "Move disk from A to C\n",
      "Move disk from A to B\n",
      "Move disk from C to B\n",
      "Move disk from A to C\n",
      "Move disk from B to A\n",
      "Move disk from B to C\n",
      "Move disk from A to C\n"
     ]
    }
   ],
   "source": [
    "toh('A','B','C',3)"
   ]
  },
  {
   "cell_type": "code",
   "execution_count": null,
   "metadata": {},
   "outputs": [],
   "source": []
  }
 ],
 "metadata": {
  "kernelspec": {
   "display_name": "Python 3",
   "language": "python",
   "name": "python3"
  },
  "language_info": {
   "codemirror_mode": {
    "name": "ipython",
    "version": 3
   },
   "file_extension": ".py",
   "mimetype": "text/x-python",
   "name": "python",
   "nbconvert_exporter": "python",
   "pygments_lexer": "ipython3",
   "version": "3.7.3"
  }
 },
 "nbformat": 4,
 "nbformat_minor": 2
}
