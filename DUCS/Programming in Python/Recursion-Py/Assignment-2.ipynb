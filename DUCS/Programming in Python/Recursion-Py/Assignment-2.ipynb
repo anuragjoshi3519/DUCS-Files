{
 "cells": [
  {
   "cell_type": "code",
   "execution_count": 111,
   "metadata": {},
   "outputs": [],
   "source": [
    "def succ(num):\n",
    "    '''\n",
    "    Objective: To calculate the successor of a non-negative integer\n",
    "    Input Parameters: A single integer n, n>=0\n",
    "    Return Value: Numeric - incremented value of the input by 1 \n",
    "    '''\n",
    "    '''\n",
    "    Approach: Incrementing the value of the input by 1 using addition operator\n",
    "              and returning the resultant value \n",
    "    '''\n",
    "    try:\n",
    "        num=int(num)\n",
    "        if num<0:\n",
    "            raise Exception('Negative inputs are not allowed.')\n",
    "        num=num+1\n",
    "        return num\n",
    "    \n",
    "    except Exception as exp:\n",
    "        print(exp.args[0])"
   ]
  },
  {
   "cell_type": "code",
   "execution_count": 116,
   "metadata": {},
   "outputs": [
    {
     "data": {
      "text/plain": [
       "11"
      ]
     },
     "execution_count": 116,
     "metadata": {},
     "output_type": "execute_result"
    }
   ],
   "source": [
    "succ(10)"
   ]
  },
  {
   "cell_type": "code",
   "execution_count": 127,
   "metadata": {},
   "outputs": [],
   "source": [
    "def pred(num):\n",
    "    '''\n",
    "    Objective: To calculate the predecessor of the given number without using minus ('-') operator\n",
    "    Input Parameters: A single integer n, n>0\n",
    "    Return Value: Numeric- decremented value of the input by 1 \n",
    "    '''\n",
    "    '''\n",
    "    Approach: Decrementing the value of the input by 1 using successor function and a for loop\n",
    "              and returning the resultant value\n",
    "    '''\n",
    "    j=0\n",
    "    try:\n",
    "        num=int(num)\n",
    "        if num<1:\n",
    "            raise Exception('Only values greater than 0 are allowed')\n",
    "#         while True:\n",
    "#             if succ(j)==int(num):\n",
    "#                 return j\n",
    "#             j=succ(j)\n",
    "         \n",
    "        n,i = num,0\n",
    "        while n!=0:\n",
    "            num=num^(1<<i)\n",
    "            if n%2==1:\n",
    "                return num\n",
    "            n=n>>1\n",
    "            i+=1\n",
    "            \n",
    "    except Exception as exp:\n",
    "        print(exp.args[0])"
   ]
  },
  {
   "cell_type": "code",
   "execution_count": 129,
   "metadata": {},
   "outputs": [
    {
     "data": {
      "text/plain": [
       "87"
      ]
     },
     "execution_count": 129,
     "metadata": {},
     "output_type": "execute_result"
    }
   ],
   "source": [
    "pred(88)"
   ]
  },
  {
   "cell_type": "code",
   "execution_count": 95,
   "metadata": {},
   "outputs": [],
   "source": [
    "def countDown(num):\n",
    "    '''\n",
    "    Objective: To print the countdown of numbers from n to 0\n",
    "    Input Parameters: A single integer n, n>=0\n",
    "    Output: Values from n to 0\n",
    "    Return Value: None\n",
    "    '''\n",
    "    '''\n",
    "    Approach: Countdown is generated using recursion\n",
    "    '''\n",
    "    \n",
    "    if num>=0:\n",
    "        print(num)\n",
    "        countDown(num-1)\n",
    "    return    "
   ]
  },
  {
   "cell_type": "code",
   "execution_count": 98,
   "metadata": {},
   "outputs": [
    {
     "name": "stdout",
     "output_type": "stream",
     "text": [
      "6\n",
      "5\n",
      "4\n",
      "3\n",
      "2\n",
      "1\n",
      "0\n"
     ]
    }
   ],
   "source": [
    "countDown(6)"
   ]
  },
  {
   "cell_type": "code",
   "execution_count": null,
   "metadata": {},
   "outputs": [],
   "source": []
  },
  {
   "cell_type": "code",
   "execution_count": null,
   "metadata": {},
   "outputs": [],
   "source": []
  }
 ],
 "metadata": {
  "kernelspec": {
   "display_name": "Python 3",
   "language": "python",
   "name": "python3"
  },
  "language_info": {
   "codemirror_mode": {
    "name": "ipython",
    "version": 3
   },
   "file_extension": ".py",
   "mimetype": "text/x-python",
   "name": "python",
   "nbconvert_exporter": "python",
   "pygments_lexer": "ipython3",
   "version": "3.7.4"
  }
 },
 "nbformat": 4,
 "nbformat_minor": 2
}
