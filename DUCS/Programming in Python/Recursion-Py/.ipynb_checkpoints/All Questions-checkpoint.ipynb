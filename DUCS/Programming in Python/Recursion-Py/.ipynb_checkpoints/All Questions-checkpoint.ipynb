{
 "cells": [
  {
   "cell_type": "markdown",
   "metadata": {},
   "source": [
    "## Q - Print the countdown of numbers from n to 0 using recursion."
   ]
  },
  {
   "cell_type": "code",
   "execution_count": 75,
   "metadata": {
    "scrolled": false
   },
   "outputs": [
    {
     "name": "stdout",
     "output_type": "stream",
     "text": [
      "6\n",
      "5\n",
      "4\n",
      "3\n",
      "2\n",
      "1\n",
      "0\n"
     ]
    }
   ],
   "source": [
    "def countDown(num):\n",
    "    '''\n",
    "    Objective: To print the countdown of numbers from n to 0\n",
    "    Input Parameters: A single integer n, n>=0\n",
    "    Output: Values from n to 0\n",
    "    Return Value: None\n",
    "    '''\n",
    "    '''\n",
    "    Approach: Countdown is generated using recursion\n",
    "    '''\n",
    "    \n",
    "    if num>=0:\n",
    "        print(num)\n",
    "        countDown(num-1)\n",
    "    return\n",
    "\n",
    "\n",
    "countDown(6)"
   ]
  },
  {
   "cell_type": "markdown",
   "metadata": {},
   "source": [
    "## Q - Calculate the factorial of the given number."
   ]
  },
  {
   "cell_type": "code",
   "execution_count": 102,
   "metadata": {},
   "outputs": [
    {
     "data": {
      "text/plain": [
       "2"
      ]
     },
     "execution_count": 102,
     "metadata": {},
     "output_type": "execute_result"
    }
   ],
   "source": [
    "import sys\n",
    "def factorial(n):\n",
    "    '''\n",
    "    Objective: Calculate the factorial of the given number\n",
    "    Input Parameters: A positive integer - n \n",
    "    Return Value: Factorial of the given number\n",
    "    '''\n",
    "    '''\n",
    "    Approach: Recurively finding the out the factorial.\n",
    "    '''   \n",
    "    try:\n",
    "        if n<0:\n",
    "            raise ValueError\n",
    "        if  n <= 2:\n",
    "            return n\n",
    "        else:\n",
    "            return n*factorial(n-1)\n",
    "    except ValueError:\n",
    "        print('Please Input Positive number')\n",
    "        #print(sys.exc_info())\n",
    "        \n",
    "factorial(2)"
   ]
  },
  {
   "cell_type": "markdown",
   "metadata": {},
   "source": [
    "## Q - Calculate the gcd of two given numbers using recursion."
   ]
  },
  {
   "cell_type": "code",
   "execution_count": 8,
   "metadata": {},
   "outputs": [
    {
     "data": {
      "text/plain": [
       "3"
      ]
     },
     "execution_count": 8,
     "metadata": {},
     "output_type": "execute_result"
    }
   ],
   "source": [
    "def gcd(n1,n2):\n",
    "    '''\n",
    "    Objective: Calculate the gcd of two given numbers\n",
    "    Input Parameters: Two positive integers\n",
    "    Return Value: The GCD of the 2 input positive integers\n",
    "    '''\n",
    "    '''\n",
    "    Approach: Recurively finding the out the GCD.\n",
    "    '''\n",
    "    assert n1>0 and n2>0\n",
    "    \n",
    "    if n1<n2:        # if input n1 is smaller than n2 then swap them\n",
    "        n1,n2=n2,n1\n",
    "    \n",
    "    if n1%n2==0:     # base case\n",
    "        return n2\n",
    "    else:           \n",
    "        return gcd(n2,n1%n2)     # recursive step\n",
    "    \n",
    "\n",
    "gcd(81,789)"
   ]
  },
  {
   "cell_type": "markdown",
   "metadata": {},
   "source": [
    "## Q - Check if the given number is prime or not prime using recursion"
   ]
  },
  {
   "cell_type": "code",
   "execution_count": 7,
   "metadata": {},
   "outputs": [
    {
     "data": {
      "text/plain": [
       "True"
      ]
     },
     "execution_count": 7,
     "metadata": {},
     "output_type": "execute_result"
    }
   ],
   "source": [
    "def isPrime(num,div=2):\n",
    "    '''\n",
    "    Objective: Check if the number is prime or not.\n",
    "    Input Parameters: A single integer greater than 0, default input div initialized to 2\n",
    "    Return Value: True if the number is prime or False if the number is not prime\n",
    "    '''\n",
    "    '''\n",
    "    Approach: Recursion is used to implement the function.\n",
    "              A default parameter (div) is used to check if any number less than the\n",
    "              square root of input num divides the num or not.\n",
    "    '''\n",
    "    assert num>0\n",
    "    ## Base Cases\n",
    "    if num<2:\n",
    "        return False\n",
    "    elif num==2 or num==3:\n",
    "        return True\n",
    "    elif num%div==0:\n",
    "        return False\n",
    "    else:           ## Recursive Case\n",
    "        if div**2<=num:\n",
    "            return isPrime(num,div+1)\n",
    "        else:\n",
    "            return True\n",
    "        \n",
    "isPrime(37)       "
   ]
  },
  {
   "cell_type": "markdown",
   "metadata": {},
   "source": [
    "## Q - Program to check if a string is palindrome or not using recursion."
   ]
  },
  {
   "cell_type": "code",
   "execution_count": 25,
   "metadata": {},
   "outputs": [
    {
     "data": {
      "text/plain": [
       "True"
      ]
     },
     "execution_count": 25,
     "metadata": {},
     "output_type": "execute_result"
    }
   ],
   "source": [
    "def to_lower(string):\n",
    "    '''\n",
    "    Objective: To lowercase a string\n",
    "    Input Parameters: A string \n",
    "    Return Value: given string in lowercase\n",
    "    '''    \n",
    "    string = string.lower()\n",
    "    return string\n",
    "\n",
    "def is_palindrome(string):\n",
    "    '''\n",
    "    Objective: Check if a string is a palindrome or not\n",
    "    Input Parameters: A String\n",
    "    Return Value: True - if string is palindrome\n",
    "                  False - if string is not palindrome  \n",
    "    '''    \n",
    "    if len(string) <= 1:\n",
    "        return True\n",
    "    else:\n",
    "        return string[0]==string[-1] and is_palindrome(string[1:-1])\n",
    "    \n",
    "test = 'krerErK'\n",
    "is_palindrome(to_lower(test))   "
   ]
  },
  {
   "cell_type": "markdown",
   "metadata": {},
   "source": [
    "## Q - Add a given number at the correct position of the given sorted list using recursion. "
   ]
  },
  {
   "cell_type": "code",
   "execution_count": 1,
   "metadata": {},
   "outputs": [
    {
     "data": {
      "text/plain": [
       "[1, 22, 30, 152, 152, 622, 733]"
      ]
     },
     "execution_count": 1,
     "metadata": {},
     "output_type": "execute_result"
    }
   ],
   "source": [
    "def addToSortedList(mylist,num):\n",
    "    '''\n",
    "    Objective: To add a given number at the correct position of the given sorted list\n",
    "    Input Parameters: A sorted list of numbers and a number to be added to the list\n",
    "    Return Value: The Sorted list with given number added at correct position\n",
    "    '''\n",
    "    length=len(mylist)\n",
    "    mid=length//2\n",
    "    if length==0:\n",
    "        return [num]\n",
    "    elif mylist[mid]==num:\n",
    "        return mylist[:mid]+[num]+mylist[mid:]\n",
    "    elif mylist[mid]<num:\n",
    "        return ( mylist[:mid+1] + addToSortedList(mylist[mid+1:],num) ) \n",
    "    else:\n",
    "        return ( addToSortedList(mylist[:mid],num) + mylist[mid:] )\n",
    "    \n",
    "addToSortedList([1,22,30,152,622,733],152)  "
   ]
  },
  {
   "cell_type": "markdown",
   "metadata": {},
   "source": [
    "## Q - Convert a nested list into simple list using recursion."
   ]
  },
  {
   "cell_type": "code",
   "execution_count": 139,
   "metadata": {},
   "outputs": [
    {
     "name": "stdout",
     "output_type": "stream",
     "text": [
      "[1, 2, 3, 4, 5, 6]\n"
     ]
    }
   ],
   "source": [
    "def flatten(lst1,startIndex,lst2=[]):    \n",
    "    '''\n",
    "    Objective: To convert a nested list into simple list\n",
    "    Input Params:\n",
    "                lst1 = nested list\n",
    "                lst2 = flattened list , initially empty\n",
    "    Output: simple un-nested (flattened) list\n",
    "    \n",
    "    '''\n",
    "    #approach: to flatten the given list recursively\n",
    "    \n",
    "    if startIndex==len(lst1):\n",
    "        return lst2\n",
    "    elif type(lst1[startIndex])!=list:\n",
    "        lst2.append(lst1[startIndex])\n",
    "    else:\n",
    "        flatten(lst1[startIndex],0,lst2)\n",
    "        \n",
    "    return flatten(lst1,startIndex+1,lst2)\n",
    "\n",
    "nestedList = [1,[2,3],[4,[5,6]]]\n",
    "flattenedList = flatten(nestedList,0)\n",
    "\n",
    "print(flattenedList)"
   ]
  },
  {
   "cell_type": "markdown",
   "metadata": {},
   "source": [
    "## Q - Perform insertion sort using recursion."
   ]
  },
  {
   "cell_type": "code",
   "execution_count": 111,
   "metadata": {},
   "outputs": [
    {
     "name": "stdout",
     "output_type": "stream",
     "text": [
      "[-99, -6, -4, 2, 3, 4, 7, 99]\n"
     ]
    }
   ],
   "source": [
    "def shifter(mylist,index):\n",
    "    '''\n",
    "    objective: to shift left the element to its right place in a list presorted before the index \n",
    "    input: a list and an index position which needs to be shifted\n",
    "    output: no output this is inplace i.e. original list will be mutated\n",
    "    '''\n",
    "    '''\n",
    "    approach: using recursion only\n",
    "    '''\n",
    "    if index>0:\n",
    "        if(mylist[index]<mylist[index-1]):\n",
    "            mylist[index],mylist[index-1] = mylist[index-1], mylist[index]\n",
    "            shifter(mylist,index-1)\n",
    "            \n",
    "def insertionSort(mylist,index=1):\n",
    "    '''\n",
    "    objective: to implement insertion sort\n",
    "    input: an unsorted list\n",
    "    output: no output; this is inplace i.e. original list will be mutated\n",
    "    '''\n",
    "    '''\n",
    "    approach: using recursion only\n",
    "    '''\n",
    "\n",
    "    if(index<len(mylist)):\n",
    "        shifter(mylist,index)\n",
    "        insertionSort(mylist,index+1)\n",
    "\n",
    "\n",
    "        \n",
    "mylist=[4,3,2,-4,7,-6,99,-99]\n",
    "insertionSort(mylist)\n",
    "print(mylist)"
   ]
  },
  {
   "cell_type": "markdown",
   "metadata": {},
   "source": [
    "## Q - Perform bubble sort using recursion."
   ]
  },
  {
   "cell_type": "code",
   "execution_count": 120,
   "metadata": {},
   "outputs": [
    {
     "name": "stdout",
     "output_type": "stream",
     "text": [
      "[-1212, 3, 3.3, 5, 7, 9, 12, 121, 543.2, 963.4, 9999]\n"
     ]
    }
   ],
   "source": [
    "def bubble(lst,startIndex,endIndex):\n",
    "    '''\n",
    "    Objective: To put the heaviest(largest) element at the end of the given list\n",
    "    Input: lst - A list of numbers\n",
    "           startIndex - starting index of lst\n",
    "           endIndex - end index of lst\n",
    "    Return Value: List with heaviest element at the end\n",
    "    '''\n",
    "    if startIndex<endIndex:\n",
    "        if lst[startIndex]>lst[startIndex+1]:\n",
    "            lst[startIndex],lst[startIndex+1]=lst[startIndex+1],lst[startIndex]\n",
    "        bubble(lst,startIndex+1,endIndex)\n",
    "\n",
    "def bubbleSort(lst,endIndex):\n",
    "    '''\n",
    "    Objective: To sort the elements of the given list\n",
    "    Input: lst - A list of numbers\n",
    "           endIndex - end index of lst \n",
    "    Return Value: Given list with elements sorted \n",
    "    '''\n",
    "    '''\n",
    "    Approach: Recursion is used to sort the list\n",
    "    '''\n",
    "    if endIndex>0:\n",
    "        bubble(lst,0,endIndex)\n",
    "        bubbleSort(lst,endIndex-1)\n",
    "    \n",
    "lst=[5,3,7,3.3,9,121,543.2,963.4,12,9999,-1212]\n",
    "bubbleSort(lst,endIndex=len(lst)-1)\n",
    "print(lst)"
   ]
  },
  {
   "cell_type": "markdown",
   "metadata": {},
   "source": [
    "## Q - Perform selection sort using recursion."
   ]
  },
  {
   "cell_type": "code",
   "execution_count": 122,
   "metadata": {},
   "outputs": [
    {
     "name": "stdout",
     "output_type": "stream",
     "text": [
      "Sorted : [-8678, -1, 1, 2, 4, 6, 9, 89898]\n"
     ]
    }
   ],
   "source": [
    "def select(ar, startIndex, elemI):\n",
    "    '''\n",
    "    Objective: To find the smallest number in the given list\n",
    "    Input: ar - A list of numbers\n",
    "           startIndex - starting index\n",
    "           elemI - index of smallest element\n",
    "    Return Value: smallest element of the list 'ar' \n",
    "    '''    \n",
    "    if startIndex == len(ar):\n",
    "        return elemI\n",
    "    elif ar[startIndex] < ar[elemI]:\n",
    "        elemI = startIndex\n",
    "    return select(ar, startIndex+1, elemI)\n",
    "\n",
    "def selectionSort(ar,startIndex):\n",
    "    '''\n",
    "    Objective: To sort the elements of the given list using selection sort\n",
    "    Input: ar - A list of numbers\n",
    "           startIndex -  Starting index\n",
    "    Return Value: Given list with elements sorted\n",
    "    '''    \n",
    "    if startIndex < len(ar):\n",
    "        i = select(ar, startIndex, startIndex)\n",
    "        ar[i], ar[startIndex] = ar[startIndex], ar[i]\n",
    "        selectionSort(ar,startIndex+1)\n",
    "    \n",
    "\n",
    "ar = [6,2,9,1,-1,4,-8678,89898]\n",
    "selectionSort(ar,0)\n",
    "print(\"Sorted :\", ar)"
   ]
  },
  {
   "cell_type": "markdown",
   "metadata": {},
   "source": [
    "## Q - Show the solution to the tower of hanoi problem with 'n' number of disks."
   ]
  },
  {
   "cell_type": "code",
   "execution_count": 124,
   "metadata": {},
   "outputs": [
    {
     "name": "stdout",
     "output_type": "stream",
     "text": [
      "Move disk from A to C\n",
      "Move disk from A to B\n",
      "Move disk from C to B\n",
      "Move disk from A to C\n",
      "Move disk from B to A\n",
      "Move disk from B to C\n",
      "Move disk from A to C\n"
     ]
    }
   ],
   "source": [
    "def toh(n,start,aux,end):\n",
    "    '''\n",
    "    Objective: To show the movement of disks, so that all the disk from pole A moves to pole C in the same order.\n",
    "    Input: \n",
    "        start: starting position of disks\n",
    "        end: ending position of disks\n",
    "        aux: auxilliary pole to help the process\n",
    "    Return Values: None    \n",
    "    '''\n",
    "    if n==1:\n",
    "        print(\"Move disk from {} to {}\".format(start,end))\n",
    "        return\n",
    "    toh(n-1,start,end,aux)\n",
    "    print(\"Move disk from {} to {}\".format(start,end))\n",
    "    toh(n-1,aux,start,end)\n",
    "\n",
    "    \n",
    "toh(3,'A','B','C')   "
   ]
  },
  {
   "cell_type": "markdown",
   "metadata": {},
   "source": [
    "## Q - Reverse a given list using recursion."
   ]
  },
  {
   "cell_type": "code",
   "execution_count": 130,
   "metadata": {},
   "outputs": [
    {
     "name": "stdout",
     "output_type": "stream",
     "text": [
      "[90, 8, 7, 6, 5, 4, 3, 2]\n"
     ]
    }
   ],
   "source": [
    "def reverseList(lst,newlst,endIndex):\n",
    "    '''\n",
    "    Objective: To reverse the given list\n",
    "    Input Parameters: lst- List to reverse\n",
    "                      newlst- empty list\n",
    "                      i- starting index of lst\n",
    "    Return Values: Reversed List\n",
    "    '''\n",
    "    if endIndex<0:\n",
    "        return newlst\n",
    "    else:\n",
    "        return reverseList(lst,newlst+[lst[endIndex]],endIndex-1)\n",
    "\n",
    "    \n",
    "b=[2,3,4,5,6,7,8,90]\n",
    "\n",
    "a=reverseList(b,[],len(b)-1)\n",
    "print(a)"
   ]
  },
  {
   "cell_type": "markdown",
   "metadata": {},
   "source": [
    "## Q - Insert the given value at alternate positions in the given list using recursion."
   ]
  },
  {
   "cell_type": "code",
   "execution_count": 18,
   "metadata": {},
   "outputs": [
    {
     "data": {
      "text/plain": [
       "[1, 9, 2, 9, 3, 9, 4, 9, 5, 9, 6, 9]"
      ]
     },
     "execution_count": 18,
     "metadata": {},
     "output_type": "execute_result"
    }
   ],
   "source": [
    "def insertAlternate(lst,val,i):\n",
    "    '''\n",
    "    Objective: To insert the given value at alternate positions in the given list\n",
    "    Input Parameters: lst- List of numbers\n",
    "                      value - Value to insert  \n",
    "    Return Values: list with value at alternate position\n",
    "    '''\n",
    "    \n",
    "    if len(lst)==i:\n",
    "        return []\n",
    "    else:\n",
    "        return [lst[i]]+[val]+ insertAlternate(lst,val,i+1)\n",
    "    \n",
    "    \n",
    "insertAlternate([1,2,3,4,5,6],9,i=0)       "
   ]
  },
  {
   "cell_type": "markdown",
   "metadata": {},
   "source": [
    "## Q - Remove all the occurences of the given value from the given list using recursion."
   ]
  },
  {
   "cell_type": "code",
   "execution_count": 135,
   "metadata": {},
   "outputs": [
    {
     "data": {
      "text/plain": [
       "[2, 3, 4, 5, 6, 6, 7, 7, 1, 1, 2, 2]"
      ]
     },
     "execution_count": 135,
     "metadata": {},
     "output_type": "execute_result"
    }
   ],
   "source": [
    "def remove(lst,value):\n",
    "    '''\n",
    "    Objective: To remove all the occurences of 'value' from the list 'lst'\n",
    "    Input Parameters: lst - a list of numbers\n",
    "                      value - a number\n",
    "    Return Value: A list having no element equal to 'value'\n",
    "    '''\n",
    "    if len(lst)==0:\n",
    "        return []\n",
    "    elif lst[0]==value:\n",
    "        return remove(lst[1:],value)\n",
    "    else:\n",
    "        return [lst[0]] + remove(lst[1:],value)\n",
    "    \n",
    "remove([2,3,4,5,6,6,7,7,1,1,2,2,9,9],9)"
   ]
  },
  {
   "cell_type": "markdown",
   "metadata": {},
   "source": [
    "## Q - To deep copy a given list into another list using recursion."
   ]
  },
  {
   "cell_type": "code",
   "execution_count": 137,
   "metadata": {},
   "outputs": [
    {
     "name": "stdout",
     "output_type": "stream",
     "text": [
      "[1, 2, [3, [4], [7, 8]], 5, [8, 9, 10]]\n"
     ]
    }
   ],
   "source": [
    "def deep_copy(lst,i=0,lst_copy=[]):\n",
    "    '''\n",
    "    objective : to deep copy a given list into another list \n",
    "    input : a list to be copied \n",
    "    return value : copy of the desired list\n",
    "    '''\n",
    "    '''\n",
    "    approach : using recursion\n",
    "    '''\n",
    "    if len(lst)==i:\n",
    "        return lst_copy\n",
    "    elif type(lst[i])==list:\n",
    "        lst_copy = lst_copy + [deep_copy(lst[i])]\n",
    "    else:\n",
    "        lst_copy=lst_copy + [lst[i]]\n",
    "        \n",
    "    return deep_copy(lst,i+1,lst_copy)    \n",
    "    \n",
    "\n",
    "a=[1,2,[3,[4],[7,8]],5,[8,9,10]]\n",
    "\n",
    "b=deep_copy(a)\n",
    "print(b)\n",
    "\n",
    "#print(id(a[2])==id(b[2]))"
   ]
  },
  {
   "cell_type": "markdown",
   "metadata": {},
   "source": [
    "## Q - Print following triangle pattern for given input n:\n",
    "     for n=4:\n",
    "     \n",
    "        1        \n",
    "       212       \n",
    "      32123      \n",
    "     4321234     "
   ]
  },
  {
   "cell_type": "code",
   "execution_count": 133,
   "metadata": {},
   "outputs": [
    {
     "name": "stdout",
     "output_type": "stream",
     "text": [
      "   1   \n",
      "  212  \n",
      " 32123 \n",
      "4321234\n"
     ]
    }
   ],
   "source": [
    "def printPattern(n):\n",
    "    \n",
    "    for i in range(n):\n",
    "        for j in range(n*2-1):\n",
    "            if j in range((n-1)-i,(n-1)+i +1): print(abs(j-(n-1))+1,end='')\n",
    "            else: print(' ',end='') \n",
    "        print()\n",
    "        \n",
    "printPattern(4)        "
   ]
  },
  {
   "cell_type": "code",
   "execution_count": null,
   "metadata": {},
   "outputs": [],
   "source": [
    "def permutations(lst,k,pos):\n",
    "    '''\n",
    "    Objective: print all permutations of a list of numbers\n",
    "    Input Parameters : lst - list\n",
    "    Return Value : None\n",
    "    '''\n",
    "    \n",
    "    "
   ]
  },
  {
   "cell_type": "code",
   "execution_count": null,
   "metadata": {},
   "outputs": [],
   "source": []
  },
  {
   "cell_type": "code",
   "execution_count": null,
   "metadata": {},
   "outputs": [],
   "source": []
  },
  {
   "cell_type": "code",
   "execution_count": null,
   "metadata": {},
   "outputs": [],
   "source": []
  },
  {
   "cell_type": "code",
   "execution_count": null,
   "metadata": {},
   "outputs": [],
   "source": []
  },
  {
   "cell_type": "code",
   "execution_count": null,
   "metadata": {},
   "outputs": [],
   "source": []
  },
  {
   "cell_type": "code",
   "execution_count": null,
   "metadata": {},
   "outputs": [],
   "source": []
  },
  {
   "cell_type": "code",
   "execution_count": null,
   "metadata": {},
   "outputs": [],
   "source": []
  },
  {
   "cell_type": "code",
   "execution_count": null,
   "metadata": {},
   "outputs": [],
   "source": []
  },
  {
   "cell_type": "code",
   "execution_count": null,
   "metadata": {},
   "outputs": [],
   "source": []
  },
  {
   "cell_type": "code",
   "execution_count": null,
   "metadata": {},
   "outputs": [],
   "source": []
  },
  {
   "cell_type": "code",
   "execution_count": null,
   "metadata": {},
   "outputs": [],
   "source": []
  },
  {
   "cell_type": "code",
   "execution_count": null,
   "metadata": {},
   "outputs": [],
   "source": []
  },
  {
   "cell_type": "code",
   "execution_count": null,
   "metadata": {},
   "outputs": [],
   "source": []
  },
  {
   "cell_type": "code",
   "execution_count": null,
   "metadata": {},
   "outputs": [],
   "source": []
  },
  {
   "cell_type": "code",
   "execution_count": null,
   "metadata": {},
   "outputs": [],
   "source": []
  },
  {
   "cell_type": "code",
   "execution_count": null,
   "metadata": {},
   "outputs": [],
   "source": []
  },
  {
   "cell_type": "code",
   "execution_count": null,
   "metadata": {},
   "outputs": [],
   "source": []
  }
 ],
 "metadata": {
  "kernelspec": {
   "display_name": "Python 3",
   "language": "python",
   "name": "python3"
  },
  "language_info": {
   "codemirror_mode": {
    "name": "ipython",
    "version": 3
   },
   "file_extension": ".py",
   "mimetype": "text/x-python",
   "name": "python",
   "nbconvert_exporter": "python",
   "pygments_lexer": "ipython3",
   "version": "3.7.4"
  }
 },
 "nbformat": 4,
 "nbformat_minor": 2
}
