{
 "cells": [
  {
   "cell_type": "code",
   "execution_count": 8,
   "metadata": {},
   "outputs": [],
   "source": [
    "def copy_list(lst,startIndex=0,lst_copy=[]):\n",
    "    '''\n",
    "    Objective: To copy a list into another list\n",
    "    Input Parameters: lst - List to be copied\n",
    "                      startIndex - starting index of lst  \n",
    "                      lst_copy - Copy of the list 'lst'\n",
    "    Return Value: Copy of the list 'lst'\n",
    "    '''\n",
    "    \n",
    "    if startIndex==len(lst):\n",
    "        return lst_copy\n",
    "    else:\n",
    "        lst_copy = lst_copy+[lst[startIndex]]\n",
    "        return copy_list(lst,startIndex+1,lst_copy)"
   ]
  },
  {
   "cell_type": "code",
   "execution_count": 10,
   "metadata": {},
   "outputs": [
    {
     "name": "stdout",
     "output_type": "stream",
     "text": [
      "[2, 3, [6, 8, 9]]\n"
     ]
    }
   ],
   "source": [
    "copy=copy_list([2,3,[6,8,9]])\n",
    "print(copy)"
   ]
  },
  {
   "cell_type": "code",
   "execution_count": null,
   "metadata": {},
   "outputs": [],
   "source": []
  },
  {
   "cell_type": "code",
   "execution_count": 11,
   "metadata": {},
   "outputs": [],
   "source": [
    "def remove(lst,value):\n",
    "    '''\n",
    "    Objective: To remove all the occurences of 'value' from the list 'lst'\n",
    "    Input Parameters: lst - a list of numbers\n",
    "                      value - a number\n",
    "    Return Value: A list having no element equal to 'value'\n",
    "    '''\n",
    "    if len(lst)==0:\n",
    "        return []\n",
    "    elif lst[0]==value:\n",
    "        return remove(lst[1:],value)\n",
    "    else:\n",
    "        return [lst[0]] + remove(lst[1:],value)"
   ]
  },
  {
   "cell_type": "code",
   "execution_count": 13,
   "metadata": {},
   "outputs": [
    {
     "data": {
      "text/plain": [
       "[2, 3, 4, 5, 6, 6, 1, 1, 2, 2, 9, 9]"
      ]
     },
     "execution_count": 13,
     "metadata": {},
     "output_type": "execute_result"
    }
   ],
   "source": [
    "remove([2,3,4,5,6,6,7,7,1,1,2,2,9,9],7)"
   ]
  },
  {
   "cell_type": "code",
   "execution_count": null,
   "metadata": {
    "collapsed": true
   },
   "outputs": [],
   "source": []
  },
  {
   "cell_type": "code",
   "execution_count": null,
   "metadata": {},
   "outputs": [],
   "source": []
  },
  {
   "cell_type": "code",
   "execution_count": null,
   "metadata": {
    "collapsed": true
   },
   "outputs": [],
   "source": []
  }
 ],
 "metadata": {
  "kernelspec": {
   "display_name": "Python 3",
   "language": "python",
   "name": "python3"
  },
  "language_info": {
   "codemirror_mode": {
    "name": "ipython",
    "version": 3
   },
   "file_extension": ".py",
   "mimetype": "text/x-python",
   "name": "python",
   "nbconvert_exporter": "python",
   "pygments_lexer": "ipython3",
   "version": "3.7.4"
  }
 },
 "nbformat": 4,
 "nbformat_minor": 1
}
