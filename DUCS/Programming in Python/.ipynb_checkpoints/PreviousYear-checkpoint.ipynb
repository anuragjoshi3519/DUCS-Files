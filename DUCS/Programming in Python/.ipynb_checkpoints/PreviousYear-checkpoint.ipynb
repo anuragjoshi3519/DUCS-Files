{
 "cells": [
  {
   "cell_type": "code",
   "execution_count": 7,
   "metadata": {},
   "outputs": [
    {
     "data": {
      "text/plain": [
       "[3, 9, 13, 21, 26]"
      ]
     },
     "execution_count": 7,
     "metadata": {},
     "output_type": "execute_result"
    }
   ],
   "source": [
    "def cummulative(lst,cumList=[]):\n",
    "    '''\n",
    "    Objective: To get the cummulative list\n",
    "    Input Parameters: lst - A list\n",
    "                      cumList - An empty list                          \n",
    "    Return Value : cumList\n",
    "    '''\n",
    "    if len(lst)==0:\n",
    "        return cumList\n",
    "    else:\n",
    "        if len(cumList)==0:\n",
    "            cumList.append(lst[0])\n",
    "        else:    \n",
    "            cumList.append(lst[0]+cumList[-1])\n",
    "            \n",
    "        cummulative(lst[1:],cumList)\n",
    "    return cumList\n",
    "\n",
    "cummulative([3,6,4,8,5])"
   ]
  },
  {
   "cell_type": "code",
   "execution_count": 13,
   "metadata": {},
   "outputs": [
    {
     "name": "stdout",
     "output_type": "stream",
     "text": [
      "(14, 9, 2)\n"
     ]
    }
   ],
   "source": [
    "import sys\n",
    "def readFile(filename):\n",
    "    '''\n",
    "    Objective:\n",
    "    Input Parameters:\n",
    "    Return Values:\n",
    "    '''\n",
    "    countWords=0\n",
    "    countConsonant=0\n",
    "    countPhrases=0\n",
    "    \n",
    "    try:\n",
    "        research = open(filename,'r')\n",
    "    except IOError:\n",
    "        print(sys.exc_info())\n",
    "    \n",
    "    ## Counting number of words\n",
    "    \n",
    "    line = research.readline()\n",
    "    \n",
    "    while(line!=''):\n",
    "        words = line.split(' ')\n",
    "        countWords+=len(words)\n",
    "        \n",
    "        try:\n",
    "            for word in words:\n",
    "                if word[0] not in 'aeiouAEIOU':\n",
    "                    countConsonant+=1\n",
    "\n",
    "            countPhrases+=line.lower().count('python programming') \n",
    "        \n",
    "        except IndexError:\n",
    "            print('Index out of bounds')\n",
    "            \n",
    "        except (ValueError,TypeError):\n",
    "            print('Argument error or type mismatch')\n",
    "        \n",
    "        line = research.readline()\n",
    "    \n",
    "    research.close()\n",
    "    \n",
    "    return countWords,countConsonant,countPhrases\n",
    "\n",
    "print(readFile('research.txt'))"
   ]
  },
  {
   "cell_type": "code",
   "execution_count": 32,
   "metadata": {},
   "outputs": [],
   "source": [
    "class Date:\n",
    "    '''A Simple Date Class'''\n",
    "    \n",
    "    def __init__(self,day,month,year):\n",
    "        '''\n",
    "        Objective: Initialize the object of class Date\n",
    "        Input Parameters: self - Implicit parameter, reference to an object of type Date\n",
    "                          day - numeric value between 1 and 31\n",
    "                          month - numeric value\n",
    "                          year - numeric value\n",
    "        '''\n",
    "        \n",
    "        self.day=int(day)\n",
    "        self.month=int(month)\n",
    "        self.year=int(year)\n",
    "        \n",
    "    def __str__(self):\n",
    "        '''\n",
    "        Objective: To give a string representation of the object of class Date\n",
    "        Input Parameters: self - Implicit parameter, reference to an object of type Date\n",
    "        Return Value : A string\n",
    "        '''\n",
    "        day=str(self.day)\n",
    "        month=str(self.month)\n",
    "        \n",
    "        if self.day<10:\n",
    "            day = '0'+ day\n",
    "        if self.month<10:\n",
    "            month = '0'+ month\n",
    "        return day+'/'+month+'/'+str(self.year)\n",
    "    \n",
    "    def nextDate(self):\n",
    "        '''\n",
    "        '''\n",
    "        \n",
    "        leapYear = self.year%400==0 or (self.year%100!=0 and self.year%4==0)\n",
    "        \n",
    "        if self.month in [1,3,5,7,8,10,12]:\n",
    "            if self.day<31:\n",
    "                return Date(self.day+1,self.month,self.year)\n",
    "            elif self.month==12 and self.day==31:\n",
    "                day=1\n",
    "                month=1\n",
    "                year=self.year+1\n",
    "                return Date(day,month,year)\n",
    "            else:\n",
    "                day=1\n",
    "                month=self.month+1\n",
    "                return Date(day,month,self.year)\n",
    "            \n",
    "        elif self.month in [4,6,9,11]:\n",
    "            if self.day<30:\n",
    "                return Date(self.day+1,self.month,self.year)\n",
    "            else:\n",
    "                day=1\n",
    "                month=self.month+1\n",
    "                return Date(day,month,self.year)   \n",
    "            \n",
    "        else:\n",
    "            if leapYear==True and self.day<29:\n",
    "                return Date(self.day+1,self.month,self.year)\n",
    "            if leapYear==False and self.day<28:\n",
    "                return Date(self.day+1,self.month,self.year)\n",
    "            else:\n",
    "                day=1\n",
    "                month=self.month+1\n",
    "                return Date(day,month,self.year)"
   ]
  },
  {
   "cell_type": "code",
   "execution_count": 40,
   "metadata": {},
   "outputs": [
    {
     "name": "stdout",
     "output_type": "stream",
     "text": [
      "27/02/2017\n",
      "28/02/2017\n"
     ]
    }
   ],
   "source": [
    "mydate = Date(27,2,2017)\n",
    "print(mydate)\n",
    "print(mydate.nextDate())"
   ]
  },
  {
   "cell_type": "code",
   "execution_count": 42,
   "metadata": {},
   "outputs": [],
   "source": [
    "dict1 = {0:'zero',1:'one',2:'two',3:'three'}\n",
    "reverseDict = { value : key for key,value in dict1.items()}"
   ]
  },
  {
   "cell_type": "code",
   "execution_count": 50,
   "metadata": {},
   "outputs": [
    {
     "name": "stdout",
     "output_type": "stream",
     "text": [
      "{0: 'zero', 1: 'one', 2: 'two', 3: 'three'}\n",
      "{'zero': 0, 'one': 1, 'two': 2, 'three': 3}\n"
     ]
    }
   ],
   "source": [
    "print(dict1)\n",
    "print(reverseDict)"
   ]
  },
  {
   "cell_type": "code",
   "execution_count": null,
   "metadata": {},
   "outputs": [],
   "source": []
  },
  {
   "cell_type": "code",
   "execution_count": null,
   "metadata": {},
   "outputs": [],
   "source": []
  }
 ],
 "metadata": {
  "kernelspec": {
   "display_name": "Python 3",
   "language": "python",
   "name": "python3"
  },
  "language_info": {
   "codemirror_mode": {
    "name": "ipython",
    "version": 3
   },
   "file_extension": ".py",
   "mimetype": "text/x-python",
   "name": "python",
   "nbconvert_exporter": "python",
   "pygments_lexer": "ipython3",
   "version": "3.7.4"
  }
 },
 "nbformat": 4,
 "nbformat_minor": 2
}
