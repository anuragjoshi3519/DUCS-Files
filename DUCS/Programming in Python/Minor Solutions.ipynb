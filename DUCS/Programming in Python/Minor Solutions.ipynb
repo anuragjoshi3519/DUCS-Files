{
 "cells": [
  {
   "cell_type": "code",
   "execution_count": 9,
   "metadata": {
    "collapsed": true
   },
   "outputs": [],
   "source": [
    "def copy_list(lst,lst_copy=[]):\n",
    "    '''\n",
    "    Objective: To copy a list into another list\n",
    "    Input Parameters: lst - List to be copied\n",
    "                      lst_copy - Copy of the list 'lst'\n",
    "    Return Value: Copy of the list 'lst'\n",
    "    '''\n",
    "    \n",
    "    if len(lst)==0:\n",
    "        return lst_copy\n",
    "    else:\n",
    "        return copy_list(lst[1:],lst_copy+[lst[0]])"
   ]
  },
  {
   "cell_type": "code",
   "execution_count": 16,
   "metadata": {
    "collapsed": false
   },
   "outputs": [
    {
     "name": "stdout",
     "output_type": "stream",
     "text": [
      "[2, 3, [5, 6]]\n"
     ]
    }
   ],
   "source": [
    "copy=copy_list([2,3,[5,6]])\n",
    "print(copy)"
   ]
  },
  {
   "cell_type": "code",
   "execution_count": null,
   "metadata": {
    "collapsed": false
   },
   "outputs": [],
   "source": []
  },
  {
   "cell_type": "code",
   "execution_count": 19,
   "metadata": {
    "collapsed": true
   },
   "outputs": [],
   "source": [
    "def remove(lst,value):\n",
    "    '''\n",
    "    Objective: To remove all the occurences of 'value' from the list 'lst'\n",
    "    Input Parameters: lst - a list of numbers\n",
    "                      value - a number\n",
    "    Return Value: A list having no element equal to 'value'\n",
    "    '''\n",
    "    if len(lst)==0:\n",
    "        return []\n",
    "    elif lst[0]==value:\n",
    "        return remove(lst[1:],value)\n",
    "    else:\n",
    "        return [lst[0]] + remove(lst[1:],value)"
   ]
  },
  {
   "cell_type": "code",
   "execution_count": 21,
   "metadata": {
    "collapsed": false
   },
   "outputs": [
    {
     "data": {
      "text/plain": [
       "[2, 3, 4, 5, 6, 6, 7, 7, 1, 1, 2, 2]"
      ]
     },
     "execution_count": 21,
     "metadata": {},
     "output_type": "execute_result"
    }
   ],
   "source": [
    "remove([2,3,4,5,6,6,7,7,1,1,2,2,9,9],9)"
   ]
  },
  {
   "cell_type": "code",
   "execution_count": null,
   "metadata": {
    "collapsed": true
   },
   "outputs": [],
   "source": []
  },
  {
   "cell_type": "code",
   "execution_count": null,
   "metadata": {
    "collapsed": false
   },
   "outputs": [],
   "source": []
  },
  {
   "cell_type": "code",
   "execution_count": null,
   "metadata": {
    "collapsed": true
   },
   "outputs": [],
   "source": []
  }
 ],
 "metadata": {
  "kernelspec": {
   "display_name": "Python [Root]",
   "language": "python",
   "name": "Python [Root]"
  },
  "language_info": {
   "codemirror_mode": {
    "name": "ipython",
    "version": 3
   },
   "file_extension": ".py",
   "mimetype": "text/x-python",
   "name": "python",
   "nbconvert_exporter": "python",
   "pygments_lexer": "ipython3",
   "version": "3.5.2"
  }
 },
 "nbformat": 4,
 "nbformat_minor": 0
}
