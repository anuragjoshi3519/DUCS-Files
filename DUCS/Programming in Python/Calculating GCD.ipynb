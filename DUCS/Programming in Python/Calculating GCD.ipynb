{
 "cells": [
  {
   "cell_type": "code",
   "execution_count": 3,
   "metadata": {
    "collapsed": true
   },
   "outputs": [],
   "source": [
    "def gcd(n1,n2):\n",
    "    '''\n",
    "    Objective: Calculate the gcd of two given numbers\n",
    "    Input Parameters: Two positive integers\n",
    "    Return Value: The GCD of the 2 input positive integers\n",
    "    '''\n",
    "    '''\n",
    "    Approach: Recurively finding the out the GCD.\n",
    "    '''\n",
    "    assert n1>0 and n2>0\n",
    "    \n",
    "    if n1<n2:        # if in input n1 is smaller than n2 then swap them\n",
    "        n1,n2=n2,n1\n",
    "    \n",
    "    if n1%n2==0:     # base case\n",
    "        return n2\n",
    "    else:           \n",
    "        return gcd(n2,n1%n2)     # recursive step"
   ]
  },
  {
   "cell_type": "code",
   "execution_count": 13,
   "metadata": {
    "collapsed": false
   },
   "outputs": [
    {
     "data": {
      "text/plain": [
       "3"
      ]
     },
     "execution_count": 13,
     "metadata": {},
     "output_type": "execute_result"
    }
   ],
   "source": [
    "gcd(81,789)"
   ]
  },
  {
   "cell_type": "code",
   "execution_count": null,
   "metadata": {
    "collapsed": true
   },
   "outputs": [],
   "source": []
  }
 ],
 "metadata": {
  "kernelspec": {
   "display_name": "Python 3",
   "language": "python",
   "name": "python3"
  },
  "language_info": {
   "codemirror_mode": {
    "name": "ipython",
    "version": 3
   },
   "file_extension": ".py",
   "mimetype": "text/x-python",
   "name": "python",
   "nbconvert_exporter": "python",
   "pygments_lexer": "ipython3",
   "version": "3.6.0"
  }
 },
 "nbformat": 4,
 "nbformat_minor": 2
}
