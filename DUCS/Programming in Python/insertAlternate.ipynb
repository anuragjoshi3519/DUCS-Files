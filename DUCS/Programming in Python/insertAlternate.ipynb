{
 "cells": [
  {
   "cell_type": "code",
   "execution_count": 22,
   "metadata": {},
   "outputs": [],
   "source": [
    "def insertAlternate(lst,val,i):\n",
    "    '''\n",
    "    Objective: To insert the given value at alternate positions in the given list\n",
    "    Input Parameters: lst- List of numbers\n",
    "                      value - Value to insert  \n",
    "    Return Values: list with value at alternate position\n",
    "    '''\n",
    "    \n",
    "    if len(lst)==i:\n",
    "        return []\n",
    "    else:\n",
    "        return [lst[i]]+[val]+ insertAlternate(lst,val,i+1)"
   ]
  },
  {
   "cell_type": "code",
   "execution_count": 23,
   "metadata": {},
   "outputs": [
    {
     "data": {
      "text/plain": [
       "[1, 9, 2, 9, 3, 9, 4, 9, 5, 9, 6, 9]"
      ]
     },
     "execution_count": 23,
     "metadata": {},
     "output_type": "execute_result"
    }
   ],
   "source": [
    "insertAlternate([1,2,3,4,5,6],9,i=0)"
   ]
  },
  {
   "cell_type": "code",
   "execution_count": null,
   "metadata": {},
   "outputs": [],
   "source": []
  }
 ],
 "metadata": {
  "kernelspec": {
   "display_name": "Python 3",
   "language": "python",
   "name": "python3"
  },
  "language_info": {
   "codemirror_mode": {
    "name": "ipython",
    "version": 3
   },
   "file_extension": ".py",
   "mimetype": "text/x-python",
   "name": "python",
   "nbconvert_exporter": "python",
   "pygments_lexer": "ipython3",
   "version": "3.6.5"
  }
 },
 "nbformat": 4,
 "nbformat_minor": 2
}
