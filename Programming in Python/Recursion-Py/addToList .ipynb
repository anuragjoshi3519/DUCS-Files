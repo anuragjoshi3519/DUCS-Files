{
 "cells": [
  {
   "cell_type": "code",
   "execution_count": 25,
   "metadata": {},
   "outputs": [],
   "source": [
    "def addToSortedList(mylist,num):\n",
    "    '''\n",
    "    Objective: To add a given number at the correct position of the given sorted list\n",
    "    Input Parameters: A sorted list of numbers and a number to be added to the list\n",
    "    Return Value: The Sorted list with given number added at correct position\n",
    "    '''\n",
    "    length=len(mylist)\n",
    "    mid=length//2\n",
    "    if length==0:\n",
    "        return [num]\n",
    "    elif mylist[mid]==num:\n",
    "        return mylist[:mid]+[num]+mylist[mid:]\n",
    "    elif mylist[mid]<num:\n",
    "        return ( mylist[:mid+1] + addToSortedList(mylist[mid+1:],num) ) \n",
    "    else:\n",
    "        return ( addToSortedList(mylist[:mid],num) + mylist[mid:] ) \n",
    "                "
   ]
  },
  {
   "cell_type": "code",
   "execution_count": 34,
   "metadata": {},
   "outputs": [
    {
     "data": {
      "text/plain": [
       "[1, 22, 30, 152, 152, 622, 733]"
      ]
     },
     "execution_count": 34,
     "metadata": {},
     "output_type": "execute_result"
    }
   ],
   "source": [
    "addToSortedList([1,22,30,152,622,733],152)"
   ]
  },
  {
   "cell_type": "code",
   "execution_count": null,
   "metadata": {},
   "outputs": [],
   "source": []
  }
 ],
 "metadata": {
  "kernelspec": {
   "display_name": "Python 3",
   "language": "python",
   "name": "python3"
  },
  "language_info": {
   "codemirror_mode": {
    "name": "ipython",
    "version": 3
   },
   "file_extension": ".py",
   "mimetype": "text/x-python",
   "name": "python",
   "nbconvert_exporter": "python",
   "pygments_lexer": "ipython3",
   "version": "3.7.4"
  }
 },
 "nbformat": 4,
 "nbformat_minor": 2
}
