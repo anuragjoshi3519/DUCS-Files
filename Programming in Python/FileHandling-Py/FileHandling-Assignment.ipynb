{
 "cells": [
  {
   "cell_type": "code",
   "execution_count": 2,
   "metadata": {},
   "outputs": [],
   "source": [
    "import pickle"
   ]
  },
  {
   "cell_type": "code",
   "execution_count": 19,
   "metadata": {},
   "outputs": [],
   "source": [
    "class Student:\n",
    "    '''\n",
    "    A simple Student class\n",
    "    '''\n",
    "    def __init__(self,roll,name,marks):\n",
    "        '''\n",
    "        **Constructor function - Used to initialize new instances of the class**\n",
    "        Input : self - Implicit Parameter references to the current object\n",
    "                roll - Roll number of the student\n",
    "                name - Name of the student\n",
    "                marks - Marks of the student\n",
    "        Return Value : Implicitly returns the reference to the class instance created\n",
    "        '''\n",
    "        \n",
    "        #instance variables unique to each instance\n",
    "        self.roll = roll   \n",
    "        self.name = name\n",
    "        self.marks = marks \n",
    "    \n",
    "    def writeStudent(self,filename):\n",
    "        '''\n",
    "        Objectives : To add the student object to a file\n",
    "        Input Parameter(s) : filename - name of the file in which to add student object\n",
    "        Return Value(s) : None\n",
    "        '''\n",
    "        with open(filename,'a') as f:\n",
    "            f.write('{},{},{}\\n'.format(self.roll,self.name,self.marks))\n",
    "    \n",
    "    def __str__(self):\n",
    "        '''\n",
    "        Utility function to display student information when the student object is called\n",
    "        '''\n",
    "        return '{}, {}, {}'.format(self.roll,self.name,self.marks)"
   ]
  },
  {
   "cell_type": "code",
   "execution_count": 20,
   "metadata": {},
   "outputs": [],
   "source": [
    "def createStudentObjFile(studentTextFile,studentObjectFile):\n",
    "    '''\n",
    "    Objective: To make an object file containing Student objects in it\n",
    "    Input Parameter(s): studentTextFile - name of the file from which to read the student data\n",
    "                        studentObjectFile - name of the file in which to store student objects\n",
    "    Return Value(s): None\n",
    "    '''\n",
    "    studentList = []  # Empty list initialization\n",
    "    \n",
    "    # Reading student text file and appending data to studentList\n",
    "    with open(studentTextFile,'r') as textFile: \n",
    "        for line in textFile:\n",
    "            roll,name,marks = line.split(',')\n",
    "            student = Student(int(roll),name,int(marks))\n",
    "            studentList.append(student)\n",
    "    \n",
    "    # Making student object file\n",
    "    with open(studentObjectFile,'wb') as objectFile:\n",
    "        pickle.dump(studentList,objectFile)\n",
    "        \n",
    "            \n",
    "def updateStudentObjFile(revisedTextFile,studentObjectFile):\n",
    "    '''\n",
    "    Objective: To update the object file containing Student objects in it\n",
    "    Input Parameter(s): revisedTextFile - name of the file from which to read the updated student data\n",
    "                        studentObjectFile - name of the file in which to store the updated student objects\n",
    "    Return Value(s): None\n",
    "    '''\n",
    "     \n",
    "    # Reading student objects from object file\n",
    "    with open(studentObjectFile,'rb') as objectFile:\n",
    "        studentList = pickle.load(objectFile)\n",
    "\n",
    "    # Reading updated student text file and updated data\n",
    "    with open(revisedTextFile,'r') as textFile: \n",
    "        for line in textFile:\n",
    "            roll,name,marks = line.split(',')\n",
    "            roll = int(roll)\n",
    "            marks = int(marks)\n",
    "            for idx in range(len(studentList)):\n",
    "                if roll == studentList[idx].roll:\n",
    "                    studentList[idx].marks=marks\n",
    "                    \n",
    "    # Updating student object file\n",
    "    with open(studentObjectFile,'wb') as objectFile:\n",
    "        pickle.dump(studentList,objectFile)\n",
    "        \n",
    "def printStudentInfo(filename):\n",
    "    '''\n",
    "    Objective: Read student objects and print information of each student on different lines\n",
    "    Input Parameter(s): filename - name of the file from which to read the student data\n",
    "    Return Value(s): None\n",
    "    '''\n",
    "    \n",
    "    # Reading and printing the student objects\n",
    "    with open(filename,'rb') as objectFile:\n",
    "        for s in pickle.load(objectFile):\n",
    "            print(s)"
   ]
  },
  {
   "cell_type": "code",
   "execution_count": 23,
   "metadata": {},
   "outputs": [],
   "source": [
    "textFileName = 'student.txt'\n",
    "objectFileName = 'studentObj.pkl'\n",
    "updateTextFileName = 'revised.txt'"
   ]
  },
  {
   "cell_type": "code",
   "execution_count": 24,
   "metadata": {},
   "outputs": [
    {
     "name": "stdout",
     "output_type": "stream",
     "text": [
      "1, Arpit, 85\n",
      "2, Aman, 90\n",
      "3, Bhavesh, 78\n",
      "4, Chirag, 96\n",
      "5, Chandan, 98\n",
      "6, Irfan, 88\n",
      "7, Kishore, 69\n",
      "8, Sanjay, 82\n"
     ]
    }
   ],
   "source": [
    "createStudentObjFile(textFileName,objectFileName)\n",
    "printStudentInfo(objectFileName)"
   ]
  },
  {
   "cell_type": "code",
   "execution_count": 25,
   "metadata": {},
   "outputs": [
    {
     "name": "stdout",
     "output_type": "stream",
     "text": [
      "1, Arpit, 85\n",
      "2, Aman, 91\n",
      "3, Bhavesh, 78\n",
      "4, Chirag, 96\n",
      "5, Chandan, 98\n",
      "6, Irfan, 88\n",
      "7, Kishore, 69\n",
      "8, Sanjay, 76\n"
     ]
    }
   ],
   "source": [
    "## making revised marks file\n",
    "\n",
    "# s1=Student(8,'Sanjay',76)\n",
    "# s2=Student(2,'Aman',91)\n",
    "# s1.writeStudent(updateTextFileName)\n",
    "# s2.writeStudent(updateTextFileName)\n",
    "\n",
    "updateStudentObjFile(updateTextFileName,objectFileName)\n",
    "printStudentInfo(objectFileName)"
   ]
  },
  {
   "cell_type": "code",
   "execution_count": null,
   "metadata": {},
   "outputs": [],
   "source": []
  },
  {
   "cell_type": "code",
   "execution_count": null,
   "metadata": {},
   "outputs": [],
   "source": []
  }
 ],
 "metadata": {
  "kernelspec": {
   "display_name": "Python 3",
   "language": "python",
   "name": "python3"
  },
  "language_info": {
   "codemirror_mode": {
    "name": "ipython",
    "version": 3
   },
   "file_extension": ".py",
   "mimetype": "text/x-python",
   "name": "python",
   "nbconvert_exporter": "python",
   "pygments_lexer": "ipython3",
   "version": "3.7.4"
  }
 },
 "nbformat": 4,
 "nbformat_minor": 2
}
