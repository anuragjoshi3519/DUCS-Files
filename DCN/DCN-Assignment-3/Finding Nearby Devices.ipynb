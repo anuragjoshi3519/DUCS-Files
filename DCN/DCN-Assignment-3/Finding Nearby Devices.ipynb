{
 "cells": [
  {
   "cell_type": "markdown",
   "metadata": {},
   "source": [
    "# Data Communication and Networking Assignment-3  \n",
    "\n",
    "\n",
    "\n",
    "## Task : To find the devices near your phone at a particular time instant which are in the bluetooth range of your phone\n",
    "<img src=\"img.png\" alt=\"Bluetooth\" width=\"100\" height=\"90\" />"
   ]
  },
  {
   "cell_type": "markdown",
   "metadata": {},
   "source": [
    "## Solution : To perform this task i will use a python's bluetooth package `PyBluez`.  \n",
    "\n",
    "> * `PyBluez` is a Python extension module written in `C` that provides access to system Bluetooth resources in an object oriented, modular manner. It is written for the Windows XP (Microsoft Bluetooth stack) and GNU/Linux (BlueZ stack).\n",
    "\n",
    "> * It contains many  functions to do various bluetooth related task on a device. "
   ]
  },
  {
   "cell_type": "markdown",
   "metadata": {},
   "source": [
    "### Step 1: Importing the package `bluetooth`\n",
    "    \n",
    "```python \n",
    "    \n",
    "import bluetooth\n",
    "    \n",
    "```  "
   ]
  },
  {
   "cell_type": "markdown",
   "metadata": {},
   "source": [
    "### Step 2: Finding nearby bluetooth devices\n",
    "    \n",
    "    \n",
    "> * PyBluez represents a bluetooth address as a string of the form ``xx:xx:xx:xx:xx\", where each x is a hexadecimal character.\n",
    "    \n",
    "    \n",
    "> * xx representes one octet of the 48-bit address, with most significant octets listed first.\n",
    "    \n",
    "    \n",
    "> * Bluetooth devices in PyBluez will always be identified using an address string of this form.  \n",
    "\n",
    "\n",
    "`Python Script:`\n",
    "```python\n",
    "print(\"Searching for devices...\")\n",
    "\n",
    "nearby_devices = bluetooth.discover_devices(duration=10 ,lookup_names = True,lookup_class=True)\n",
    "\n",
    "print(f\"\\nFound {len(nearby_devices)} device(s)\")\n",
    "      \n",
    "```\n",
    "\n",
    "\n",
    "> * Choosing a device really means choosing a bluetooth address.\n",
    "    \n",
    "    \n",
    "> * First, the program scan for nearby Bluetooth devices. The routine discover_devices() scans for approximately 10 seconds and returns a list of addresses of detected devices.\n",
    "    \n",
    "    \n",
    "> * Next, the program uses the routine lookup_name() to connect to each detected device, requests its user-friendly name. \n",
    "    "
   ]
  },
  {
   "cell_type": "markdown",
   "metadata": {},
   "source": [
    "### To check for a specific nearby devices the code given below can be used.\n",
    "\n",
    "`Python Script:`\n",
    "```python\n",
    "\n",
    "device_to_search = \"Anurag-OnePlus.\"\n",
    "device_address = None\n",
    "\n",
    "nearby_devices = bluetooth.discover_devices()\n",
    "\n",
    "for addr in nearby_devices:\n",
    "    if device_to_search == bluetooth.lookup_name( addr ):\n",
    "        device_address = addr\n",
    "        break\n",
    "\n",
    "if device_address is not None:\n",
    "    print(f\"Found the target bluetooth device {device_to_search} \\\n",
    "                                 having address {device_address}\")\n",
    "else:\n",
    "    print \"Sorry! Could not find target bluetooth device.\"\n",
    " ```"
   ]
  },
  {
   "cell_type": "markdown",
   "metadata": {},
   "source": [
    "### Step 3: Printing out the list of nearby bluetooth devices\n",
    "\n",
    "`Python Script:`\n",
    "```python\n",
    "if(nearby_devices):   \n",
    "    print(\"\\n{: <20}{: <20}{: <20}\".format(\"Name of device\",\"Bluetooth Address\",\"Device Class\"))\n",
    "    print(\"\\n{: <20}{: <20}{: <20}\".format(\"--------------\",\"-----------------\",\"------------\"))\n",
    "    \n",
    "    for address, name, device_class in nearby_devices:\n",
    "        print(\"\\n{: <20}{: <20}{: <20}\".format(name,address,device_class))  \n",
    "```        "
   ]
  },
  {
   "cell_type": "markdown",
   "metadata": {},
   "source": [
    "### Note:\n",
    "    \n",
    "> * _Since both the Bluetooth detection and name lookup process are probabilistic, discover_devices() will sometimes fail to detect devices that are in range, and lookup_name() will sometimes return None to indicate that it couldn't determine the user-friendly name of the detected device._\n",
    "    \n",
    "    \n",
    "> * _In these cases, it may be a good idea to try again once or twice before giving up._\n"
   ]
  },
  {
   "cell_type": "markdown",
   "metadata": {},
   "source": [
    "### Running Code: \n",
    "\n",
    "\n",
    "### Finding nearby bluetooth devices"
   ]
  },
  {
   "cell_type": "code",
   "execution_count": 8,
   "metadata": {},
   "outputs": [
    {
     "name": "stdout",
     "output_type": "stream",
     "text": [
      "Searching for devices...\n",
      "\n",
      "Found 3 device(s)\n",
      "\n",
      "\n",
      "Name of device    Bluetooth Address    Device Class   Timestamp           \n",
      "--------------    -----------------    ------------   ---------           \n",
      "\n",
      "iPhone            BC:9F:EF:E7:F4:92    7995916        1589805837344       \n",
      "\n",
      "Anurag's Oneplus  C0:EE:FB:DA:5F:2A    5898764        1589805837344       \n",
      "\n",
      "HARISH            54:35:30:26:FD:6C    2752780        1589805837346       \n"
     ]
    }
   ],
   "source": [
    "import time\n",
    "import bluetooth\n",
    "\n",
    "print(\"Searching for devices...\")\n",
    "\n",
    "nearby_devices = bluetooth.discover_devices(duration=10, lookup_names = True, lookup_class=True)\n",
    "\n",
    "print(f\"\\nFound {len(nearby_devices)} device(s)\")\n",
    "      \n",
    "if(nearby_devices):   \n",
    "    print(\"\\n\\n{: <17} {: <20} {: <15}{: <20}\".format(\"Name of device\",\"Bluetooth Address\",\"Device Class\",\"Timestamp\"))\n",
    "    print(\"{: <17} {: <20} {: <15}{: <20}\".format(\"--------------\",\"-----------------\",\"------------\",\"---------\"))\n",
    "    \n",
    "    for address, name, device_class in nearby_devices:\n",
    "        print(\"\\n{: <17} {: <20} {: <15}{: <20}\".format(name,address,device_class,int(time.time()*1000)))"
   ]
  },
  {
   "cell_type": "markdown",
   "metadata": {},
   "source": [
    "### _Timestamp information is also printed for each device_"
   ]
  },
  {
   "cell_type": "markdown",
   "metadata": {},
   "source": [
    "### Running Code: \n",
    "\n",
    "### Finding specific nearby bluetooth device with its name."
   ]
  },
  {
   "cell_type": "code",
   "execution_count": 4,
   "metadata": {},
   "outputs": [
    {
     "name": "stdout",
     "output_type": "stream",
     "text": [
      "\n",
      "Sorry! Could not find target bluetooth device.\n"
     ]
    }
   ],
   "source": [
    "device_to_search = \"Anurag-OnePlus\"\n",
    "device_address = None\n",
    "nearby_devices = bluetooth.discover_devices(duration=10)\n",
    "\n",
    "for addr in nearby_devices:\n",
    "    if device_to_search == bluetooth.lookup_name( addr ):\n",
    "        device_address = addr\n",
    "        break\n",
    "\n",
    "if device_address is not None:\n",
    "    print(f\"\\nFound the target bluetooth device '{device_to_search}' having address : {device_address}\")\n",
    "else:\n",
    "    print(\"\\nSorry! Could not find target bluetooth device.\")"
   ]
  },
  {
   "cell_type": "code",
   "execution_count": null,
   "metadata": {},
   "outputs": [],
   "source": []
  }
 ],
 "metadata": {
  "kernelspec": {
   "display_name": "Python 3",
   "language": "python",
   "name": "python3"
  },
  "language_info": {
   "codemirror_mode": {
    "name": "ipython",
    "version": 3
   },
   "file_extension": ".py",
   "mimetype": "text/x-python",
   "name": "python",
   "nbconvert_exporter": "python",
   "pygments_lexer": "ipython3",
   "version": "3.7.6"
  }
 },
 "nbformat": 4,
 "nbformat_minor": 4
}
